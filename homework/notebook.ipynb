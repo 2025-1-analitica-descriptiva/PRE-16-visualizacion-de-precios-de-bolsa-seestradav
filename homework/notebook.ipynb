{
 "cells": [
  {
   "cell_type": "code",
   "execution_count": 2,
   "id": "80403031",
   "metadata": {},
   "outputs": [
    {
     "data": {
      "text/plain": [
       "('199507', '202104', 310)"
      ]
     },
     "execution_count": 2,
     "metadata": {},
     "output_type": "execute_result"
    }
   ],
   "source": [
    "# Creación del vector de fechas\n",
    "fechas = [\n",
    "    \"{:4d}{:02d}\".format(year, month)\n",
    "    for year in range(1995, 2022)\n",
    "    for month in range(1, 13)\n",
    "]\n",
    "fechas = [fecha for fecha in fechas if fecha >= \"199507\" and fecha <= \"202104\"]\n",
    "fechas[0], fechas[-1], len(fechas)\n"
   ]
  },
  {
   "cell_type": "code",
   "execution_count": 3,
   "id": "cff5b1ad",
   "metadata": {},
   "outputs": [
    {
     "data": {
      "text/html": [
       "<div>\n",
       "<style scoped>\n",
       "    .dataframe tbody tr th:only-of-type {\n",
       "        vertical-align: middle;\n",
       "    }\n",
       "\n",
       "    .dataframe tbody tr th {\n",
       "        vertical-align: top;\n",
       "    }\n",
       "\n",
       "    .dataframe thead th {\n",
       "        text-align: right;\n",
       "    }\n",
       "</style>\n",
       "<table border=\"1\" class=\"dataframe\">\n",
       "  <thead>\n",
       "    <tr style=\"text-align: right;\">\n",
       "      <th></th>\n",
       "      <th>Fecha</th>\n",
       "      <th>0</th>\n",
       "      <th>1</th>\n",
       "      <th>2</th>\n",
       "      <th>3</th>\n",
       "      <th>4</th>\n",
       "      <th>5</th>\n",
       "      <th>6</th>\n",
       "      <th>7</th>\n",
       "      <th>8</th>\n",
       "      <th>...</th>\n",
       "      <th>14</th>\n",
       "      <th>15</th>\n",
       "      <th>16</th>\n",
       "      <th>17</th>\n",
       "      <th>18</th>\n",
       "      <th>19</th>\n",
       "      <th>20</th>\n",
       "      <th>21</th>\n",
       "      <th>22</th>\n",
       "      <th>23</th>\n",
       "    </tr>\n",
       "  </thead>\n",
       "  <tbody>\n",
       "    <tr>\n",
       "      <th>0</th>\n",
       "      <td>1995-07-21</td>\n",
       "      <td>1.073</td>\n",
       "      <td>1.0</td>\n",
       "      <td>1.0</td>\n",
       "      <td>1.0</td>\n",
       "      <td>1.0</td>\n",
       "      <td>1.0</td>\n",
       "      <td>5.0</td>\n",
       "      <td>6.0</td>\n",
       "      <td>6.0</td>\n",
       "      <td>...</td>\n",
       "      <td>5.0</td>\n",
       "      <td>1.0</td>\n",
       "      <td>1.0</td>\n",
       "      <td>5.0</td>\n",
       "      <td>12.0</td>\n",
       "      <td>16.67</td>\n",
       "      <td>11.929</td>\n",
       "      <td>5.0</td>\n",
       "      <td>1.0</td>\n",
       "      <td>1.0</td>\n",
       "    </tr>\n",
       "    <tr>\n",
       "      <th>1</th>\n",
       "      <td>1995-07-22</td>\n",
       "      <td>1.073</td>\n",
       "      <td>1.073</td>\n",
       "      <td>1.0</td>\n",
       "      <td>1.0</td>\n",
       "      <td>1.0</td>\n",
       "      <td>1.073</td>\n",
       "      <td>1.303</td>\n",
       "      <td>1.303</td>\n",
       "      <td>1.303</td>\n",
       "      <td>...</td>\n",
       "      <td>1.073</td>\n",
       "      <td>1.0</td>\n",
       "      <td>1.0</td>\n",
       "      <td>1.0</td>\n",
       "      <td>1.303</td>\n",
       "      <td>2.5</td>\n",
       "      <td>2.5</td>\n",
       "      <td>1.303</td>\n",
       "      <td>1.073</td>\n",
       "      <td>1.073</td>\n",
       "    </tr>\n",
       "    <tr>\n",
       "      <th>2</th>\n",
       "      <td>1995-07-23</td>\n",
       "      <td>1.073</td>\n",
       "      <td>1.0</td>\n",
       "      <td>1.0</td>\n",
       "      <td>1.0</td>\n",
       "      <td>1.0</td>\n",
       "      <td>1.0</td>\n",
       "      <td>0.1</td>\n",
       "      <td>1.0</td>\n",
       "      <td>1.0</td>\n",
       "      <td>...</td>\n",
       "      <td>1.0</td>\n",
       "      <td>0.1</td>\n",
       "      <td>0.1</td>\n",
       "      <td>1.0</td>\n",
       "      <td>1.238</td>\n",
       "      <td>1.238</td>\n",
       "      <td>1.238</td>\n",
       "      <td>1.238</td>\n",
       "      <td>1.073</td>\n",
       "      <td>1.0</td>\n",
       "    </tr>\n",
       "    <tr>\n",
       "      <th>3</th>\n",
       "      <td>1995-07-24</td>\n",
       "      <td>1.0</td>\n",
       "      <td>1.0</td>\n",
       "      <td>0.99</td>\n",
       "      <td>1.0</td>\n",
       "      <td>1.0</td>\n",
       "      <td>1.073</td>\n",
       "      <td>3.0</td>\n",
       "      <td>3.0</td>\n",
       "      <td>3.0</td>\n",
       "      <td>...</td>\n",
       "      <td>1.073</td>\n",
       "      <td>1.073</td>\n",
       "      <td>3.0</td>\n",
       "      <td>2.0</td>\n",
       "      <td>18.63</td>\n",
       "      <td>22.5</td>\n",
       "      <td>9.256</td>\n",
       "      <td>3.0</td>\n",
       "      <td>1.073</td>\n",
       "      <td>1.0</td>\n",
       "    </tr>\n",
       "    <tr>\n",
       "      <th>4</th>\n",
       "      <td>1995-07-25</td>\n",
       "      <td>0.99</td>\n",
       "      <td>0.99</td>\n",
       "      <td>0.989</td>\n",
       "      <td>0.99</td>\n",
       "      <td>0.99</td>\n",
       "      <td>1.073</td>\n",
       "      <td>1.263</td>\n",
       "      <td>1.263</td>\n",
       "      <td>1.263</td>\n",
       "      <td>...</td>\n",
       "      <td>1.073</td>\n",
       "      <td>1.073</td>\n",
       "      <td>1.073</td>\n",
       "      <td>1.073</td>\n",
       "      <td>1.263</td>\n",
       "      <td>1.5</td>\n",
       "      <td>1.263</td>\n",
       "      <td>1.263</td>\n",
       "      <td>1.073</td>\n",
       "      <td>0.99</td>\n",
       "    </tr>\n",
       "  </tbody>\n",
       "</table>\n",
       "<p>5 rows × 25 columns</p>\n",
       "</div>"
      ],
      "text/plain": [
       "        Fecha      0      1      2     3     4      5      6      7      8  \\\n",
       "0  1995-07-21  1.073    1.0    1.0   1.0   1.0    1.0    5.0    6.0    6.0   \n",
       "1  1995-07-22  1.073  1.073    1.0   1.0   1.0  1.073  1.303  1.303  1.303   \n",
       "2  1995-07-23  1.073    1.0    1.0   1.0   1.0    1.0    0.1    1.0    1.0   \n",
       "3  1995-07-24    1.0    1.0   0.99   1.0   1.0  1.073    3.0    3.0    3.0   \n",
       "4  1995-07-25   0.99   0.99  0.989  0.99  0.99  1.073  1.263  1.263  1.263   \n",
       "\n",
       "   ...     14     15     16     17     18     19      20     21     22     23  \n",
       "0  ...    5.0    1.0    1.0    5.0   12.0  16.67  11.929    5.0    1.0    1.0  \n",
       "1  ...  1.073    1.0    1.0    1.0  1.303    2.5     2.5  1.303  1.073  1.073  \n",
       "2  ...    1.0    0.1    0.1    1.0  1.238  1.238   1.238  1.238  1.073    1.0  \n",
       "3  ...  1.073  1.073    3.0    2.0  18.63   22.5   9.256    3.0  1.073    1.0  \n",
       "4  ...  1.073  1.073  1.073  1.073  1.263    1.5   1.263  1.263  1.073   0.99  \n",
       "\n",
       "[5 rows x 25 columns]"
      ]
     },
     "execution_count": 3,
     "metadata": {},
     "output_type": "execute_result"
    }
   ],
   "source": [
    "import pandas as pd\n",
    "\n",
    "url = (\n",
    "    \"https://raw.githubusercontent.com/\"\n",
    "    \"jdvelasq/datalabs/master/datasets/precio_bolsa_nacional/csv/{}.csv\"\n",
    ")\n",
    "\n",
    "org_df = pd.concat([pd.read_csv(url.format(fecha)) for fecha in fechas])\n",
    "org_df.head()"
   ]
  },
  {
   "cell_type": "code",
   "execution_count": 4,
   "id": "232692d1",
   "metadata": {},
   "outputs": [
    {
     "data": {
      "text/html": [
       "<div>\n",
       "<style scoped>\n",
       "    .dataframe tbody tr th:only-of-type {\n",
       "        vertical-align: middle;\n",
       "    }\n",
       "\n",
       "    .dataframe tbody tr th {\n",
       "        vertical-align: top;\n",
       "    }\n",
       "\n",
       "    .dataframe thead th {\n",
       "        text-align: right;\n",
       "    }\n",
       "</style>\n",
       "<table border=\"1\" class=\"dataframe\">\n",
       "  <thead>\n",
       "    <tr style=\"text-align: right;\">\n",
       "      <th></th>\n",
       "      <th>Fecha</th>\n",
       "      <th>Hora</th>\n",
       "      <th>Precio</th>\n",
       "    </tr>\n",
       "  </thead>\n",
       "  <tbody>\n",
       "    <tr>\n",
       "      <th>0</th>\n",
       "      <td>1995-07-21</td>\n",
       "      <td>0</td>\n",
       "      <td>1.073</td>\n",
       "    </tr>\n",
       "    <tr>\n",
       "      <th>1</th>\n",
       "      <td>1995-07-21</td>\n",
       "      <td>1</td>\n",
       "      <td>1.0</td>\n",
       "    </tr>\n",
       "    <tr>\n",
       "      <th>2</th>\n",
       "      <td>1995-07-21</td>\n",
       "      <td>10</td>\n",
       "      <td>6.0</td>\n",
       "    </tr>\n",
       "    <tr>\n",
       "      <th>3</th>\n",
       "      <td>1995-07-21</td>\n",
       "      <td>11</td>\n",
       "      <td>9.256</td>\n",
       "    </tr>\n",
       "    <tr>\n",
       "      <th>4</th>\n",
       "      <td>1995-07-21</td>\n",
       "      <td>12</td>\n",
       "      <td>9.256</td>\n",
       "    </tr>\n",
       "  </tbody>\n",
       "</table>\n",
       "</div>"
      ],
      "text/plain": [
       "        Fecha Hora Precio\n",
       "0  1995-07-21    0  1.073\n",
       "1  1995-07-21    1    1.0\n",
       "2  1995-07-21   10    6.0\n",
       "3  1995-07-21   11  9.256\n",
       "4  1995-07-21   12  9.256"
      ]
     },
     "execution_count": 4,
     "metadata": {},
     "output_type": "execute_result"
    }
   ],
   "source": [
    "melted_df = pd.melt(\n",
    "    org_df,\n",
    "    id_vars=\"Fecha\",\n",
    "    var_name=\"Hora\",\n",
    "    value_name=\"Precio\",\n",
    ")\n",
    "melted_df = melted_df.sort_values([\"Fecha\", \"Hora\"]).reset_index(drop=True)\n",
    "melted_df.head()"
   ]
  },
  {
   "cell_type": "code",
   "execution_count": 5,
   "id": "3c38407b",
   "metadata": {},
   "outputs": [
    {
     "data": {
      "text/plain": [
       "Fecha     object\n",
       "Hora      object\n",
       "Precio    object\n",
       "dtype: object"
      ]
     },
     "execution_count": 5,
     "metadata": {},
     "output_type": "execute_result"
    }
   ],
   "source": [
    "melted_df.dtypes"
   ]
  },
  {
   "cell_type": "code",
   "execution_count": 6,
   "id": "5853de44",
   "metadata": {},
   "outputs": [
    {
     "data": {
      "text/plain": [
       "np.int64(21)"
      ]
     },
     "execution_count": 6,
     "metadata": {},
     "output_type": "execute_result"
    }
   ],
   "source": [
    "melted_df.Precio.isna().sum()"
   ]
  },
  {
   "cell_type": "code",
   "execution_count": 7,
   "id": "a856dcaf",
   "metadata": {},
   "outputs": [
    {
     "data": {
      "text/plain": [
       "(228528, 3)"
      ]
     },
     "execution_count": 7,
     "metadata": {},
     "output_type": "execute_result"
    }
   ],
   "source": [
    "# Tamaño original del dataframe\n",
    "melted_df.shape"
   ]
  },
  {
   "cell_type": "code",
   "execution_count": 8,
   "id": "2e5cf40b",
   "metadata": {},
   "outputs": [
    {
     "data": {
      "text/plain": [
       "(228507, 3)"
      ]
     },
     "execution_count": 8,
     "metadata": {},
     "output_type": "execute_result"
    }
   ],
   "source": [
    "melted_df = melted_df.dropna()\n",
    "melted_df.shape"
   ]
  },
  {
   "cell_type": "code",
   "execution_count": 9,
   "id": "f1805250",
   "metadata": {},
   "outputs": [
    {
     "data": {
      "text/html": [
       "<div>\n",
       "<style scoped>\n",
       "    .dataframe tbody tr th:only-of-type {\n",
       "        vertical-align: middle;\n",
       "    }\n",
       "\n",
       "    .dataframe tbody tr th {\n",
       "        vertical-align: top;\n",
       "    }\n",
       "\n",
       "    .dataframe thead th {\n",
       "        text-align: right;\n",
       "    }\n",
       "</style>\n",
       "<table border=\"1\" class=\"dataframe\">\n",
       "  <thead>\n",
       "    <tr style=\"text-align: right;\">\n",
       "      <th></th>\n",
       "      <th>Fecha</th>\n",
       "      <th>Hora</th>\n",
       "      <th>Precio</th>\n",
       "    </tr>\n",
       "  </thead>\n",
       "  <tbody>\n",
       "    <tr>\n",
       "      <th>179327</th>\n",
       "      <td>2015-09-25</td>\n",
       "      <td>9</td>\n",
       "      <td>1.004,81</td>\n",
       "    </tr>\n",
       "    <tr>\n",
       "      <th>179314</th>\n",
       "      <td>2015-09-25</td>\n",
       "      <td>18</td>\n",
       "      <td>1.004,81</td>\n",
       "    </tr>\n",
       "    <tr>\n",
       "      <th>179358</th>\n",
       "      <td>2015-09-27</td>\n",
       "      <td>14</td>\n",
       "      <td>1.014,81</td>\n",
       "    </tr>\n",
       "    <tr>\n",
       "      <th>179354</th>\n",
       "      <td>2015-09-27</td>\n",
       "      <td>10</td>\n",
       "      <td>1.014,81</td>\n",
       "    </tr>\n",
       "    <tr>\n",
       "      <th>179362</th>\n",
       "      <td>2015-09-27</td>\n",
       "      <td>18</td>\n",
       "      <td>1.014,81</td>\n",
       "    </tr>\n",
       "    <tr>\n",
       "      <th>...</th>\n",
       "      <td>...</td>\n",
       "      <td>...</td>\n",
       "      <td>...</td>\n",
       "    </tr>\n",
       "    <tr>\n",
       "      <th>179804</th>\n",
       "      <td>2015-10-15</td>\n",
       "      <td>6</td>\n",
       "      <td>990,52</td>\n",
       "    </tr>\n",
       "    <tr>\n",
       "      <th>179805</th>\n",
       "      <td>2015-10-15</td>\n",
       "      <td>7</td>\n",
       "      <td>990,52</td>\n",
       "    </tr>\n",
       "    <tr>\n",
       "      <th>179753</th>\n",
       "      <td>2015-10-13</td>\n",
       "      <td>3</td>\n",
       "      <td>990,52</td>\n",
       "    </tr>\n",
       "    <tr>\n",
       "      <th>179754</th>\n",
       "      <td>2015-10-13</td>\n",
       "      <td>4</td>\n",
       "      <td>990,52</td>\n",
       "    </tr>\n",
       "    <tr>\n",
       "      <th>179800</th>\n",
       "      <td>2015-10-15</td>\n",
       "      <td>23</td>\n",
       "      <td>990,52</td>\n",
       "    </tr>\n",
       "  </tbody>\n",
       "</table>\n",
       "<p>8760 rows × 3 columns</p>\n",
       "</div>"
      ],
      "text/plain": [
       "             Fecha Hora    Precio\n",
       "179327  2015-09-25    9  1.004,81\n",
       "179314  2015-09-25   18  1.004,81\n",
       "179358  2015-09-27   14  1.014,81\n",
       "179354  2015-09-27   10  1.014,81\n",
       "179362  2015-09-27   18  1.014,81\n",
       "...            ...  ...       ...\n",
       "179804  2015-10-15    6    990,52\n",
       "179805  2015-10-15    7    990,52\n",
       "179753  2015-10-13    3    990,52\n",
       "179754  2015-10-13    4    990,52\n",
       "179800  2015-10-15   23    990,52\n",
       "\n",
       "[8760 rows x 3 columns]"
      ]
     },
     "execution_count": 9,
     "metadata": {},
     "output_type": "execute_result"
    }
   ],
   "source": [
    "melted_df[melted_df[\"Precio\"].map(lambda x: isinstance(x, str))].sort_values(\"Precio\")"
   ]
  },
  {
   "cell_type": "code",
   "execution_count": 10,
   "id": "cfd3ab27",
   "metadata": {},
   "outputs": [],
   "source": [
    "melted_df[\"Precio\"] = melted_df[\"Precio\"].map(\n",
    "    lambda x: x.replace(\".\", \"\") if isinstance(x, str) else x\n",
    ")"
   ]
  },
  {
   "cell_type": "code",
   "execution_count": 11,
   "id": "cb28f50c",
   "metadata": {},
   "outputs": [],
   "source": [
    "melted_df[\"Precio\"] = melted_df[\"Precio\"].map(\n",
    "    lambda x: float(x.replace(\",\", \".\")) if isinstance(x, str) else x\n",
    ")"
   ]
  },
  {
   "cell_type": "code",
   "execution_count": 12,
   "id": "76e5adfd",
   "metadata": {},
   "outputs": [
    {
     "data": {
      "text/plain": [
       "Series([], Name: Precio, dtype: float64)"
      ]
     },
     "execution_count": 12,
     "metadata": {},
     "output_type": "execute_result"
    }
   ],
   "source": [
    "melted_df[\"Precio\"][melted_df[\"Precio\"].map(lambda x: isinstance(x, str))].sort_values()"
   ]
  }
 ],
 "metadata": {
  "kernelspec": {
   "display_name": ".venv",
   "language": "python",
   "name": "python3"
  },
  "language_info": {
   "codemirror_mode": {
    "name": "ipython",
    "version": 3
   },
   "file_extension": ".py",
   "mimetype": "text/x-python",
   "name": "python",
   "nbconvert_exporter": "python",
   "pygments_lexer": "ipython3",
   "version": "3.11.9"
  }
 },
 "nbformat": 4,
 "nbformat_minor": 5
}
